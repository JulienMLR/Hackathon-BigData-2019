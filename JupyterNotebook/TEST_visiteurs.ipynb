{
 "cells": [
  {
   "cell_type": "markdown",
   "metadata": {},
   "source": [
    "# Hackathon-BigData-2019\n",
    "\n",
    "## Membres de l'équipe : \n",
    "\n",
    "- Guillemart Serge\n",
    "- Thibault Sébastien\n",
    "- Henry Raphaël\n",
    "- Lucas Lherbier\n",
    "- Julien Muller\n",
    "\n",
    "## Sujet 2 : Science center Luxembourg \n",
    "\n",
    "## Contacts : \n",
    "- Jean-Paul GILLES, LSC,  jean-paul.gilles@science-center.lu\n",
    "- Nicolas Didier, LSC, ndidier@science-center.lu\n",
    "\n",
    "\n",
    "\n",
    "\n",
    "\n",
    "# Analyse\n",
    "\n",
    "## Importation des données\n"
   ]
  },
  {
   "cell_type": "code",
   "execution_count": null,
   "metadata": {},
   "outputs": [],
   "source": [
    "import numpy as np \n",
    "import pandas as pd\n",
    "import matplotlib.pyplot as plt\n",
    "\n",
    "import matplotlib.pyplot as plt\n",
    "plt.rcParams[\"figure.figsize\"] = (10,6)\n",
    "\n",
    "import warnings\n",
    "warnings.filterwarnings(\"ignore\", category=FutureWarning)\n",
    "\n",
    "df = pd.read_csv(\"Total_panda.csv\", sep = \";\")\n",
    "print('Le fichier a une taille de : ', df.shape)\n",
    "df.head()"
   ]
  },
  {
   "cell_type": "code",
   "execution_count": null,
   "metadata": {},
   "outputs": [],
   "source": [
    "df.describe()"
   ]
  },
  {
   "cell_type": "markdown",
   "metadata": {},
   "source": [
    "## Fonctions utiles\n",
    "\n",
    "### Proportion\n",
    "\n",
    "Cette fonction renvoie un *dataframe* avec une colonne, renseignée par *name*, et associant à chaque élément de la liste *col* sa proportion."
   ]
  },
  {
   "cell_type": "code",
   "execution_count": null,
   "metadata": {},
   "outputs": [],
   "source": [
    "def proportion(data, column, name, dum,nb_rep) :\n",
    "    prop = []\n",
    "    for i in column : \n",
    "        prop.append(round(dum[i].sum()/nb_rep*100,1))\n",
    "    data.loc[len(data)] = prop\n",
    "    data = data.T\n",
    "    data.columns = [name]\n",
    "    data = data.sort_index(by = name, axis = 0,ascending = False)\n",
    "    return data  "
   ]
  },
  {
   "cell_type": "markdown",
   "metadata": {},
   "source": [
    "### Affichage\n",
    "\n",
    "Cette fonction affiche les proportions les plus importantes du *dataframe* donné."
   ]
  },
  {
   "cell_type": "code",
   "execution_count": null,
   "metadata": {},
   "outputs": [],
   "source": [
    "def top(liste, name, seuil, titre) : \n",
    "    top_liste = liste[liste>seuil].dropna()     \n",
    "    fig = plt.figure()\n",
    "    size = fig.get_size_inches()\n",
    "    ax = top_liste.plot(kind='bar')\n",
    "    plt.title(titre)\n",
    "    ax.legend(loc='best')\n",
    "    for p in ax.patches: \n",
    "            ax.annotate(np.round(p.get_height(),decimals=2), (p.get_x()+p.get_width()/2., p.get_height() - p.get_height()/50 ), ha='center', va='center', xytext=(0, 10), textcoords='offset points')\n",
    "    plt.show()"
   ]
  },
  {
   "cell_type": "markdown",
   "metadata": {},
   "source": [
    "### Etude\n",
    "\n",
    "Cette fonction affiche les proportions les plus importantes du *dataframe* donné selon une 2nd variable."
   ]
  },
  {
   "cell_type": "code",
   "execution_count": null,
   "metadata": {},
   "outputs": [],
   "source": [
    "def etude(langue,dummies_var2,titre) : \n",
    "    dummies_langue = dummies_all[dummies_all[langue]==1]\n",
    "    nb_rep = len(dummies_langue)\n",
    "    prop_langue_var2 = pd.DataFrame(columns = list(dummies_var2))\n",
    "    top(proportion(prop_langue_var2,list(dummies_var2), 'Proportion',dummies_langue,nb_rep), 'Proportion', 1, titre)\n",
    "    return"
   ]
  },
  {
   "cell_type": "markdown",
   "metadata": {},
   "source": [
    "## Analyse des langues"
   ]
  },
  {
   "cell_type": "code",
   "execution_count": null,
   "metadata": {},
   "outputs": [],
   "source": [
    "nb_rep = sum(df.describe().iloc[0][4:9])\n",
    "print('Il y a en tout ',nb_rep,' réponses données pour les langues parlées.')"
   ]
  },
  {
   "cell_type": "markdown",
   "metadata": {},
   "source": [
    "On transforme nos données qualitatives en données quantitatives.  \n",
    "Chaque colone renvoie un tableau binaire : 1 si la personne parle la langue, 0 sinon."
   ]
  },
  {
   "cell_type": "code",
   "execution_count": null,
   "metadata": {},
   "outputs": [],
   "source": [
    "dummies_langue = pd.get_dummies(df['LANGUE 1'])\n",
    "col = list(dummies_langue)\n",
    "for i,j in enumerate(df['LANGUE 2'].fillna(0)) :\n",
    "    if j!= 0 and j in col : \n",
    "        dummies_langue[j][i] += 1\n",
    "for i,j in enumerate(df['LANGUE 3'].fillna(0)) :\n",
    "    if j!= 0 and j in col : \n",
    "        dummies_langue[j][i] += 1\n",
    "for i,j in enumerate(df['LANGUE 4'].fillna(0)) :\n",
    "    if j!= 0 and j in col : \n",
    "        dummies_langue[j][i] += 1\n",
    "for i,j in enumerate(df['LANGUE 5'].fillna(0)) :\n",
    "    if j!= 0 and j in col : \n",
    "        dummies_langue[j][i] += 1"
   ]
  },
  {
   "cell_type": "code",
   "execution_count": null,
   "metadata": {},
   "outputs": [],
   "source": [
    "dummies_langue.head()"
   ]
  },
  {
   "cell_type": "code",
   "execution_count": null,
   "metadata": {},
   "outputs": [],
   "source": [
    "col = list(dummies_langue)\n",
    "prop_lan = pd.DataFrame(columns = col)\n",
    "prop_lan = proportion(prop_lan,col, 'Proportion',dummies_langue,nb_rep)\n",
    "prop_lan"
   ]
  },
  {
   "cell_type": "code",
   "execution_count": null,
   "metadata": {},
   "outputs": [],
   "source": [
    "top(prop_lan, 'Proportion', 1, 'Proportion des langues les plus parlées') "
   ]
  },
  {
   "cell_type": "markdown",
   "metadata": {},
   "source": [
    "## Analyse des pays"
   ]
  },
  {
   "cell_type": "code",
   "execution_count": null,
   "metadata": {},
   "outputs": [],
   "source": [
    "nb_rep = df.describe().iloc[0][1]\n",
    "print('Il y a en tout ',nb_rep,' réponses données pour les pays d origine.')"
   ]
  },
  {
   "cell_type": "code",
   "execution_count": null,
   "metadata": {},
   "outputs": [],
   "source": [
    "dummies_pays = pd.get_dummies(df['PAYS'])\n",
    "col_pays = list(dummies_pays)\n",
    "prop_pays = pd.DataFrame(columns = col_pays)\n",
    "prop_pays = proportion(prop_pays,col_pays, 'Proportion',dummies_pays,nb_rep)\n",
    "prop_pays"
   ]
  },
  {
   "cell_type": "code",
   "execution_count": null,
   "metadata": {},
   "outputs": [],
   "source": [
    "top(prop_pays, 'Proportion', 1, 'Principales proportions des origines des viseurs') "
   ]
  },
  {
   "cell_type": "markdown",
   "metadata": {},
   "source": [
    "## Analyse des découvertes"
   ]
  },
  {
   "cell_type": "code",
   "execution_count": null,
   "metadata": {},
   "outputs": [],
   "source": [
    "nb_rep = df.describe().iloc[0][9]\n",
    "print('Il y a en tout ',nb_rep,' réponses données à la question \"Comment vous nous avez découvert ?\".')"
   ]
  },
  {
   "cell_type": "code",
   "execution_count": null,
   "metadata": {},
   "outputs": [],
   "source": [
    "dummies_decouverte = pd.get_dummies(df['COMMENT \\nNOUS AVEZ-VOUS DECOUVERT?'])\n",
    "col_decouverte = list(dummies_decouverte)\n",
    "prop_decouverte = pd.DataFrame(columns = col_decouverte)\n",
    "prop_decouverte = proportion(prop_decouverte,col_decouverte, 'Proportion',dummies_decouverte,nb_rep)\n",
    "prop_decouverte"
   ]
  },
  {
   "cell_type": "code",
   "execution_count": null,
   "metadata": {},
   "outputs": [],
   "source": [
    "top(prop_decouverte, 'Proportion', 1, 'Principales réponses données à la question \"Comment vous nous avez découvert ?\".') "
   ]
  },
  {
   "cell_type": "markdown",
   "metadata": {},
   "source": [
    "# Analyse sur des variables regroupées\n",
    "\n",
    "## Analyse entre les pays et la façon de découvrir le *Science Center*"
   ]
  },
  {
   "cell_type": "code",
   "execution_count": null,
   "metadata": {},
   "outputs": [],
   "source": [
    "col_del = ['LANGUE 1', 'LANGUE 2', 'LANGUE 3', 'LANGUE 4', 'LANGUE 5', 'PAYS', 'COMMENT \\nNOUS AVEZ-VOUS DECOUVERT?']\n",
    "for i in col_del : \n",
    "    del df[i]"
   ]
  },
  {
   "cell_type": "code",
   "execution_count": null,
   "metadata": {},
   "outputs": [],
   "source": [
    "dummies_all = pd.concat([df, dummies_langue , dummies_pays,dummies_decouverte ], axis = 1)\n",
    "dummies_all .head()"
   ]
  },
  {
   "cell_type": "code",
   "execution_count": null,
   "metadata": {},
   "outputs": [],
   "source": [
    "etude('LUXEMBOURGEOIS', dummies_decouverte,'Parmi les personnes parlant le LUXEMBOURGEOIS, \\nvoici les façons de découvrir le Science Center.') "
   ]
  },
  {
   "cell_type": "code",
   "execution_count": null,
   "metadata": {},
   "outputs": [],
   "source": [
    "etude('PORTUGAIS', dummies_decouverte,'Parmi les personnes parlant le PORTUGAIS, \\nvoici les façons de découvrir le Science Center.') "
   ]
  },
  {
   "cell_type": "code",
   "execution_count": null,
   "metadata": {},
   "outputs": [],
   "source": [
    "etude('AFRIKAANS', dummies_decouverte,'Parmi les personnes parlant le AFRIKAANS, \\nvoici les façons de découvrir le Science Center.') "
   ]
  },
  {
   "cell_type": "code",
   "execution_count": null,
   "metadata": {},
   "outputs": [],
   "source": []
  },
  {
   "cell_type": "code",
   "execution_count": null,
   "metadata": {},
   "outputs": [],
   "source": []
  },
  {
   "cell_type": "code",
   "execution_count": null,
   "metadata": {},
   "outputs": [],
   "source": []
  }
 ],
 "metadata": {
  "kernelspec": {
   "display_name": "Python 3",
   "language": "python",
   "name": "python3"
  },
  "language_info": {
   "codemirror_mode": {
    "name": "ipython",
    "version": 3
   },
   "file_extension": ".py",
   "mimetype": "text/x-python",
   "name": "python",
   "nbconvert_exporter": "python",
   "pygments_lexer": "ipython3",
   "version": "3.7.3"
  },
  "toc": {
   "base_numbering": 1,
   "nav_menu": {},
   "number_sections": false,
   "sideBar": true,
   "skip_h1_title": false,
   "title_cell": "Table of Contents",
   "title_sidebar": "Contents",
   "toc_cell": false,
   "toc_position": {
    "height": "calc(100% - 180px)",
    "left": "10px",
    "top": "150px",
    "width": "165px"
   },
   "toc_section_display": true,
   "toc_window_display": true
  },
  "varInspector": {
   "cols": {
    "lenName": 16,
    "lenType": 16,
    "lenVar": 40
   },
   "kernels_config": {
    "python": {
     "delete_cmd_postfix": "",
     "delete_cmd_prefix": "del ",
     "library": "var_list.py",
     "varRefreshCmd": "print(var_dic_list())"
    },
    "r": {
     "delete_cmd_postfix": ") ",
     "delete_cmd_prefix": "rm(",
     "library": "var_list.r",
     "varRefreshCmd": "cat(var_dic_list()) "
    }
   },
   "types_to_exclude": [
    "module",
    "function",
    "builtin_function_or_method",
    "instance",
    "_Feature"
   ],
   "window_display": false
  }
 },
 "nbformat": 4,
 "nbformat_minor": 2
}
